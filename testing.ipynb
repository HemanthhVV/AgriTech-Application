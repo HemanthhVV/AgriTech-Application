{
 "cells": [
  {
   "cell_type": "code",
   "execution_count": 1,
   "metadata": {},
   "outputs": [],
   "source": [
    "import pytesseract\n",
    "import cv2\n",
    "import boto3\n",
    "import tqdm\n",
    "from dotenv import load_dotenv\n",
    "import os"
   ]
  },
  {
   "cell_type": "code",
   "execution_count": 2,
   "metadata": {},
   "outputs": [
    {
     "data": {
      "text/plain": [
       "True"
      ]
     },
     "execution_count": 2,
     "metadata": {},
     "output_type": "execute_result"
    }
   ],
   "source": [
    "load_dotenv()"
   ]
  },
  {
   "cell_type": "code",
   "execution_count": 3,
   "metadata": {},
   "outputs": [],
   "source": [
    "image_folder = 'samples/'\n",
    "output_folder = 'processed/'"
   ]
  },
  {
   "cell_type": "code",
   "execution_count": 4,
   "metadata": {},
   "outputs": [
    {
     "data": {
      "text/plain": [
       "['20240624_083054.jpg',\n",
       " '20240709_144534.jpg',\n",
       " '20240627_113950.jpg',\n",
       " '20240411_134000.jpg',\n",
       " 'IMG-20240417-WA0033.jpg',\n",
       " '20240629_111138.jpg',\n",
       " '20240709_115613.jpg']"
      ]
     },
     "execution_count": 4,
     "metadata": {},
     "output_type": "execute_result"
    }
   ],
   "source": [
    "os.listdir(image_folder)"
   ]
  },
  {
   "cell_type": "code",
   "execution_count": 5,
   "metadata": {},
   "outputs": [],
   "source": [
    "if not os.path.exists(output_folder):\n",
    "    os.makedirs(output_folder)\n",
    "\n",
    "for file in os.listdir(image_folder):\n",
    "    file_path = os.path.join(image_folder,file)\n",
    "    out_path = os.path.join(output_folder,f'processed_{file}')\n",
    "    img = cv2.imread(file_path)\n",
    "    img = cv2.cvtColor(img,cv2.COLOR_BGR2GRAY)\n",
    "    height,width = img.shape\n",
    "    roi = img[int(height * 0.5) : height,0:int(width*0.6)]\n",
    "    cv2.imwrite(out_path,roi)\n"
   ]
  },
  {
   "cell_type": "code",
   "execution_count": 6,
   "metadata": {},
   "outputs": [],
   "source": [
    "attributes= {}\n",
    "total_text = []"
   ]
  },
  {
   "cell_type": "code",
   "execution_count": 11,
   "metadata": {},
   "outputs": [],
   "source": [
    "session = boto3.Session(\n",
    "    aws_access_key_id=os.environ.get('AWS_ACCESS_ID'),\n",
    "    aws_secret_access_key=os.environ.get('AWS_PASS_KEY'),\n",
    "    region_name=os.environ.get('REGION')\n",
    ")\n",
    "client = session.client('textract',region_name='us-east-1')"
   ]
  },
  {
   "cell_type": "code",
   "execution_count": 12,
   "metadata": {},
   "outputs": [
    {
     "name": "stderr",
     "output_type": "stream",
     "text": [
      "  0%|          | 0/7 [00:00<?, ?it/s]"
     ]
    },
    {
     "name": "stdout",
     "output_type": "stream",
     "text": [
      "file loaded ---> processed/processed_20240624_083054.jpg\n"
     ]
    },
    {
     "name": "stderr",
     "output_type": "stream",
     "text": [
      " 14%|█▍        | 1/7 [00:04<00:29,  4.96s/it]"
     ]
    },
    {
     "name": "stdout",
     "output_type": "stream",
     "text": [
      "file loaded ---> processed/processed_20240411_134000.jpg\n"
     ]
    },
    {
     "name": "stderr",
     "output_type": "stream",
     "text": [
      " 29%|██▊       | 2/7 [00:11<00:29,  5.90s/it]"
     ]
    },
    {
     "name": "stdout",
     "output_type": "stream",
     "text": [
      "file loaded ---> processed/processed_20240627_113950.jpg\n"
     ]
    },
    {
     "name": "stderr",
     "output_type": "stream",
     "text": [
      " 43%|████▎     | 3/7 [00:15<00:19,  4.93s/it]"
     ]
    },
    {
     "name": "stdout",
     "output_type": "stream",
     "text": [
      "file loaded ---> processed/processed_IMG-20240417-WA0033.jpg\n"
     ]
    },
    {
     "name": "stderr",
     "output_type": "stream",
     "text": [
      " 57%|█████▋    | 4/7 [00:17<00:11,  3.84s/it]"
     ]
    },
    {
     "name": "stdout",
     "output_type": "stream",
     "text": [
      "file loaded ---> processed/processed_20240709_115613.jpg\n"
     ]
    },
    {
     "name": "stderr",
     "output_type": "stream",
     "text": [
      " 71%|███████▏  | 5/7 [00:21<00:07,  3.89s/it]"
     ]
    },
    {
     "name": "stdout",
     "output_type": "stream",
     "text": [
      "file loaded ---> processed/processed_20240629_111138.jpg\n"
     ]
    },
    {
     "name": "stderr",
     "output_type": "stream",
     "text": [
      " 86%|████████▌ | 6/7 [00:23<00:03,  3.33s/it]"
     ]
    },
    {
     "name": "stdout",
     "output_type": "stream",
     "text": [
      "file loaded ---> processed/processed_20240709_144534.jpg\n"
     ]
    },
    {
     "name": "stderr",
     "output_type": "stream",
     "text": [
      "100%|██████████| 7/7 [00:26<00:00,  3.84s/it]\n"
     ]
    }
   ],
   "source": [
    "for file in tqdm.tqdm(os.listdir(output_folder)):\n",
    "    file_path = os.path.join(output_folder,file)\n",
    "    with open(file_path,'rb') as file:\n",
    "        image = file.read()\n",
    "        byte_image = bytearray(image)\n",
    "        print(f'file loaded ---> {file_path}')\n",
    "    response = client.detect_document_text(Document={\"Bytes\": byte_image})\n",
    "    temp =[]\n",
    "    for i in response['Blocks']:\n",
    "        if i['BlockType'] == 'LINE':\n",
    "            # print(i['BlockType'])\n",
    "            temp.append(i['Text'])\n",
    "    total_text.append(temp)"
   ]
  },
  {
   "cell_type": "code",
   "execution_count": 14,
   "metadata": {},
   "outputs": [
    {
     "name": "stdout",
     "output_type": "stream",
     "text": [
      "['Latitude: 19.579036', 'Longitude: 76.275787', 'Elevation: 449.34+16 m', 'Accuracy: 21.2 m', 'Time: 24-06-2024 08:30', 'Note: Farmer Id:-42223', 'Farmer Name: Annasaheb Vitthalrao Kharat', 'Crop:- Banana Callus Saplings:- 3000 Village:']\n",
      "['Latitude: 17.821182', 'Longitude: 75.014548', 'Elevation: 537.05+4 m', 'Accuracy: 1.4 m', '111', 'Time: 11-04-2024 01:39 PM', 'Note: Farmer ID : 41730', 'Farmer Name : Archana Pratap Rachkar', 'Crop Name : Banana G9 Tissue Sa plings', '25000']\n",
      "['Latitude: 19.333059', 'Longitude: 77.375199', 'Elevation: 399.3+3 m', 'Accuracy: 3.9 m', 'Azimuth: 85° (E)', 'Pitch: 0.5°', 'Time: 06-27-2024 11:39', 'Note: FARMER ID- 42176', 'FARMER NAME- ANJANABAI BAPURAV DHUMAL', 'BANANA DISTRIBUTION PLANTS SAPLING 1500 SHENNITO-A']\n",
      "['atitude: 18.226968', 'ngitude: 75.229308', 'evation: 468.9+20 m', 'ccuracy: 3.9 m', 'zimuth: 117° (SE)', 'tch: -8.4°', 'me: 17 April 2024 8:59 pm', \"te: Farmer I'd - 41641\", 'armer Name - Baban Laxman More', 'a GO Sanlina 2600']\n",
      "['atitude: 19.150115', 'ongitude: 77.243325', 'levation: 352.54+80 m', 'ccuracy: 847.6 m', 'ime: 09-07-2024 11:56', 'ote: Farmer Id :- 42040', 'armer Name :- Balaji Maroti Partale', 'anana Distribution Plants Saplings :- 1000 Village : Waghi Tq. Nanded dist.', 'N']\n",
      "['Latitude: 18.370791', 'Longitude: 76.101703', 'Elevation: 629.7+10 m', 'Accuracy: 5.2m', 'Pitch: Azimuth: 1.2° 33° (1.4°) (NE)', 'Time: 29-06-2024 11:11 AM', 'Note: Farmer ID:- 41883', 'Farmer Name:-Babruvan Dagadu Badule', 'Crop Name: - Mango Kesar Distribution Sapling:- 350']\n",
      "['Latitude: 19.58703', 'Longitude: 76.377078', 'Elevation: 439.0533 m', 'Accuracy: 5.0 m', 'Time: 07-09-2024 14:45', 'Note: Farmer Id: 41844', 'Farmer Name: Arjun Udhadavrav', 'AT', 'Crop:- Banana Saplings:- 2000 Vi', 'Mantha District Jalna']\n"
     ]
    }
   ],
   "source": [
    "for i in total_text:\n",
    "    print(i)"
   ]
  },
  {
   "cell_type": "code",
   "execution_count": null,
   "metadata": {},
   "outputs": [],
   "source": []
  }
 ],
 "metadata": {
  "kernelspec": {
   "display_name": "venv",
   "language": "python",
   "name": "python3"
  },
  "language_info": {
   "codemirror_mode": {
    "name": "ipython",
    "version": 3
   },
   "file_extension": ".py",
   "mimetype": "text/x-python",
   "name": "python",
   "nbconvert_exporter": "python",
   "pygments_lexer": "ipython3",
   "version": "3.12.7"
  }
 },
 "nbformat": 4,
 "nbformat_minor": 2
}
